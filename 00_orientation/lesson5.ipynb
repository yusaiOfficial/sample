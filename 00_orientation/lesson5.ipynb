{
 "cells": [
  {
   "cell_type": "code",
   "execution_count": 7,
   "id": "e99003e1",
   "metadata": {},
   "outputs": [
    {
     "name": "stdout",
     "output_type": "stream",
     "text": [
      "送料は無料です\n",
      "送料込税込価格は2201円です\n"
     ]
    }
   ],
   "source": [
    "# [A]: 「税抜価格」をユーザーから取得し、数値に変換する\n",
    "#tax_excluded_price = float(input(\"税抜価格を入力してください: \"))\n",
    "tax_excluded_price = float(2001)\n",
    "\n",
    "# [B]: 「税込価格」を計算する（消費税率は10%）\n",
    "tax_rate = 0.10\n",
    "tax_included_price = tax_excluded_price * ( 1 + tax_rate)\n",
    "\n",
    "# [C]、[D]: 送料の計算（2000円以上かどうかを判定して分岐する）\n",
    "if tax_included_price >= 2000:\n",
    "    shipping_cost = 0\n",
    "    print(\"送料は無料です\")\n",
    "elif tax_included_price < 2000:\n",
    "    shipping_cost = 350\n",
    "    print(f\"送料は{shipping_cost}円です\")\n",
    "\n",
    "# [E]: 送料込税込価格を計算して、変数に代入する\n",
    "total_price = tax_included_price + shipping_cost\n",
    "\n",
    "# 「送料込税込価格」を少数を含めずに出力する\n",
    "print(f\"送料込税込価格は{total_price:.0f}円です\")\n"
   ]
  }
 ],
 "metadata": {
  "kernelspec": {
   "display_name": ".venv",
   "language": "python",
   "name": "python3"
  },
  "language_info": {
   "codemirror_mode": {
    "name": "ipython",
    "version": 3
   },
   "file_extension": ".py",
   "mimetype": "text/x-python",
   "name": "python",
   "nbconvert_exporter": "python",
   "pygments_lexer": "ipython3",
   "version": "3.12.7"
  }
 },
 "nbformat": 4,
 "nbformat_minor": 5
}
